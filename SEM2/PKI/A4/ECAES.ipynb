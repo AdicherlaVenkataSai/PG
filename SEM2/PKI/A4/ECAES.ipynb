{
  "nbformat": 4,
  "nbformat_minor": 0,
  "metadata": {
    "colab": {
      "name": "ECAES.ipynb",
      "provenance": []
    },
    "kernelspec": {
      "name": "python3",
      "display_name": "Python 3"
    }
  },
  "cells": [
    {
      "cell_type": "markdown",
      "metadata": {
        "id": "9CB_gG3fj6NN",
        "colab_type": "text"
      },
      "source": [
        "# Encryption and Decryption\n",
        "\n",
        "`https://cryptobook.nakov.com/asymmetric-key-ciphers/ecc-encryption-decryption\n",
        "`\n",
        "\n",
        "1. pycryptodome : `https://pypi.org/project/pycryptodome/`\n",
        "2. tinyec : `https://pypi.org/project/tinyec/`"
      ]
    },
    {
      "cell_type": "code",
      "metadata": {
        "id": "7Dd6ZC8BLqhP",
        "colab_type": "code",
        "outputId": "434568ab-b846-4209-dea1-55a357711953",
        "colab": {
          "base_uri": "https://localhost:8080/",
          "height": 128
        }
      },
      "source": [
        "pip install pycryptodome\n"
      ],
      "execution_count": 1,
      "outputs": [
        {
          "output_type": "stream",
          "text": [
            "Collecting pycryptodome\n",
            "\u001b[?25l  Downloading https://files.pythonhosted.org/packages/af/16/da16a22d47bac9bf9db39f3b9af74e8eeed8855c0df96be20b580ef92fff/pycryptodome-3.9.7-cp36-cp36m-manylinux1_x86_64.whl (13.7MB)\n",
            "\u001b[K     |████████████████████████████████| 13.7MB 321kB/s \n",
            "\u001b[?25hInstalling collected packages: pycryptodome\n",
            "Successfully installed pycryptodome-3.9.7\n"
          ],
          "name": "stdout"
        }
      ]
    },
    {
      "cell_type": "code",
      "metadata": {
        "id": "vJOfYGl0x72K",
        "colab_type": "code",
        "outputId": "15448153-54e9-4cac-b98a-3501bf1b1e66",
        "colab": {
          "base_uri": "https://localhost:8080/",
          "height": 201
        }
      },
      "source": [
        "pip install tinyec\n"
      ],
      "execution_count": 2,
      "outputs": [
        {
          "output_type": "stream",
          "text": [
            "Collecting tinyec\n",
            "  Downloading https://files.pythonhosted.org/packages/c2/00/977e7339ae19b42ae10e1219e5b13c0f54ef703e019be5d3e0b6bf5b90fe/tinyec-0.3.1.tar.gz\n",
            "Building wheels for collected packages: tinyec\n",
            "  Building wheel for tinyec (setup.py) ... \u001b[?25l\u001b[?25hdone\n",
            "  Created wheel for tinyec: filename=tinyec-0.3.1-cp36-none-any.whl size=20766 sha256=ef8401aea0269d3d79d535eae67d711a6a5a7feac9acfde892e9c19b4183a90a\n",
            "  Stored in directory: /root/.cache/pip/wheels/00/2d/bd/610c1d20033b8dfbb4435ece514e2a79e7ad1e8315dae1761f\n",
            "Successfully built tinyec\n",
            "Installing collected packages: tinyec\n",
            "Successfully installed tinyec-0.3.1\n"
          ],
          "name": "stdout"
        }
      ]
    },
    {
      "cell_type": "code",
      "metadata": {
        "id": "F-HB2wCzycI2",
        "colab_type": "code",
        "colab": {}
      },
      "source": [
        "from tinyec import registry\n",
        "# registry holds all the curves of elliptic curve\n",
        "import secrets\n",
        "# generating cryptographically strong random numbers suitable for managing data such as passwords, account authentication, security tokens, and related secrets."
      ],
      "execution_count": 0,
      "outputs": []
    },
    {
      "cell_type": "code",
      "metadata": {
        "id": "X0I9mjQSy4TP",
        "colab_type": "code",
        "colab": {}
      },
      "source": [
        "from Crypto.Cipher import AES\n",
        "# https://pycryptodome.readthedocs.io/en/latest/src/cipher/cipher.html\n",
        "# pycrypto is a collection of both secure hash functions such as SHA256 and various encryption algorithms (AES, DES, RSA, ElGamal, etc.)\n",
        "# https://pypi.org/project/pycrypto/"
      ],
      "execution_count": 0,
      "outputs": []
    },
    {
      "cell_type": "code",
      "metadata": {
        "id": "qCin10iP4cLp",
        "colab_type": "code",
        "colab": {}
      },
      "source": [
        "import hashlib, binascii\n",
        "# hashlib used to implement different hash algorithms\n",
        "# binascii is used to covert between binary and ascii-enocded"
      ],
      "execution_count": 0,
      "outputs": []
    },
    {
      "cell_type": "markdown",
      "metadata": {
        "id": "4hPVOrk35Npq",
        "colab_type": "text"
      },
      "source": [
        "AES_GCM: `https://wizardforcel.gitbooks.io/practical-cryptography-for-developers-book/symmetric-key-ciphers/aes-encrypt-decrypt-examples.html`\n",
        "\n",
        "note:\n",
        "1. Galois/Counter Mode (GCM) is a mode of operation for symmetric-key cryptographic block ciphers widely adopted for its performance.\n",
        "2. Counter with CBC-MAC, defined in RFC3610 or NIST SP 800-38C. It only works with ciphers having block size 128 bits (like AES).\n",
        "\n",
        "It takes input as message and secretkey and outputs the ciphertext, nonce and message authentication code\n",
        "\n",
        "1. The ciphertext is the encrypted message.\n",
        "2. The nonce is the randomly generated initial vector (IV) for the GCM construction.\n",
        "3. The mac is the message authentication code (MAC) calculated during the encryption."
      ]
    },
    {
      "cell_type": "code",
      "metadata": {
        "id": "6ANL09qu4iau",
        "colab_type": "code",
        "colab": {}
      },
      "source": [
        "#Encryption and Decryption for AES_GCM\n",
        "def encrypt_AES_GCM(message, secretKey):\n",
        "  aesCipher = AES.new(secretKey, AES.MODE_GCM)\n",
        "  # instantiates new GCM cipher object\n",
        "  cipherText, mac = aesCipher.encrypt_and_digest(message)\n",
        "  return (cipherText, aesCipher.nonce, mac)\n",
        "\n",
        "\n",
        "def decrypt_AES_GCM(cipherText, nonce, mac, secretKey):\n",
        "  aesCipher = AES.new(secretKey, AES.MODE_GCM,nonce)\n",
        "  # instantiates new GCM cipher object\n",
        "  plainText = aesCipher.decrypt_and_verify(cipherText, mac)\n",
        "  return plainText\n"
      ],
      "execution_count": 0,
      "outputs": []
    },
    {
      "cell_type": "code",
      "metadata": {
        "id": "Iirh9LqP6qw2",
        "colab_type": "code",
        "colab": {}
      },
      "source": [
        "def ecc_point_to_256_bit_key(point):\n",
        "  sha = hashlib.sha256(int.to_bytes(point.x, 32, 'big'))\n",
        "  sha.update(int.to_bytes(point.y, 32, 'big'))\n",
        "  return sha.digest()"
      ],
      "execution_count": 0,
      "outputs": []
    },
    {
      "cell_type": "code",
      "metadata": {
        "id": "uqzkOAXj7I2J",
        "colab_type": "code",
        "colab": {}
      },
      "source": [
        "def encrypt_ECC(message, publicKey):\n",
        "  cipherTextPrivateKey = secrets.randbelow(curve.field.n)\n",
        "  # creating a private key between 1 and n-1\n",
        "  sharedECCKey = cipherTextPrivateKey * publicKey\n",
        "  # cal sharedkey using respective private key and public key\n",
        "  secretKey = ecc_point_to_256_bit_key(sharedECCKey)\n",
        "  # shared key point is hased using ecc_point_to_256_bit_key()\n",
        "  # result is used as symmetric key for enc/dec\n",
        "  cipherText, nonce, mac = encrypt_AES_GCM(message, secretKey)\n",
        "  # encrypt the message using the symmetric key(secretKey)\n",
        "  cipherTextPublicKey = cipherTextPrivateKey * curve.g\n",
        "  return (cipherText, nonce, mac, cipherTextPublicKey)\n",
        "\n",
        "\n",
        "def decrypt_ECC(encryptedMessage, privateKey):\n",
        "  (cipherText, nonce, mac, cipherTextPublicKey) = encryptedMessage\n",
        "  sharedECCKey = privateKey * cipherTextPublicKey\n",
        "  # cal sharedkey using respective private key and public key\n",
        "  secretKey = ecc_point_to_256_bit_key(sharedECCKey)\n",
        "  # shared key point is hased using ecc_point_to_256_bit_key()\n",
        "  # result is used as symmetric key for enc/dec\n",
        "  plainText = decrypt_AES_GCM(cipherText, nonce, mac, secretKey)\n",
        "  # decrypt the message using the symmetric key(secretKey)\n",
        "  return plainText\n"
      ],
      "execution_count": 0,
      "outputs": []
    },
    {
      "cell_type": "code",
      "metadata": {
        "id": "MP9F0Wew-DIh",
        "colab_type": "code",
        "outputId": "77744261-3327-406b-8730-0ea792d3817b",
        "colab": {
          "base_uri": "https://localhost:8080/",
          "height": 146
        }
      },
      "source": [
        "curve = registry.get_curve('brainpoolP256r1')\n",
        "\n",
        "message = b'in this pandemic situation they are expecting us to do lab assignments'\n",
        "privateKey = secrets.randbelow(curve.field.n)\n",
        "# creating a private key between 1 and n-1\n",
        "publicKey = privateKey * curve.g\n",
        " # cal public key = private key * generator\n",
        "\n",
        "encryptedMessage = encrypt_ECC(message, publicKey)\n",
        "encryptedMessageObj =  {\n",
        "    'cipherText'          : binascii.hexlify(encryptedMessage[0]),\n",
        "    'nonce'               : binascii.hexlify(encryptedMessage[1]),\n",
        "    'mac'                 : binascii.hexlify(encryptedMessage[2]),\n",
        "    'cipherTextPublicKey' : hex(encryptedMessage[3].x) + hex(encryptedMessage[3].y % 2)[2:]\n",
        " \n",
        "}\n",
        "\n",
        "decryptedMessage = decrypt_ECC(encryptedMessage, privateKey)\n",
        "\n",
        "\n",
        "print('\\n______________________________________ \\n')\n",
        "print('Actual message :',message)\n",
        "print('Encrypted text:',encryptedMessageObj['cipherText'] )\n",
        "print('Decrypted text:',decryptedMessage )\n",
        "\n",
        "\n",
        "\n"
      ],
      "execution_count": 9,
      "outputs": [
        {
          "output_type": "stream",
          "text": [
            "\n",
            "______________________________________ \n",
            "\n",
            "Actual message : b'in this pandemic situation they are expecting us to do lab assignments'\n",
            "Encrypted text: b'ea985a2235f8cfb01c0cf7a94abb49d3f39346f0556321bed2e47a6e26e8c66ffdf4541f363dc090f6bad0d05b853a84b5a01ed23eb5a99fa6bd0587c0b40a00616a82924e96'\n",
            "Decrypted text: b'in this pandemic situation they are expecting us to do lab assignments'\n"
          ],
          "name": "stdout"
        }
      ]
    },
    {
      "cell_type": "code",
      "metadata": {
        "id": "NKuGEIUzAZo0",
        "colab_type": "code",
        "outputId": "851f507c-c41a-46e9-ebfc-b5d2132781b6",
        "colab": {
          "base_uri": "https://localhost:8080/",
          "height": 55
        }
      },
      "source": [
        "'''print(\" *********complete output *******\")\n",
        "\n",
        "print('curve  :', curve)\n",
        "print('______________________________________________________________________________________________________________________________')\n",
        "print('a value of curve :', curve.a)\n",
        "print('b value of curve :',  curve.b)\n",
        "print('generator point {x, y} :',  curve.field.g)\n",
        "print('mod value of curve :',  curve.field.n)\n",
        "\n",
        "print('Private key :',privateKey)\n",
        "print('Public key point {x, y} :',publicKey)\n",
        "\n",
        "print('\\n______________________________________ \\n')\n",
        "print('Actual message :',message)\n",
        "print('Encrypted text:',encryptedMessageObj['cipherText'] )\n",
        "print('Encrypted text:',encryptedMessageObj['nonce'] )\n",
        "print('Encrypted text:',encryptedMessageObj['mac'] )\n",
        "print('Decrypted text:',decryptedMessage )'''\n",
        "\n"
      ],
      "execution_count": 10,
      "outputs": [
        {
          "output_type": "execute_result",
          "data": {
            "text/plain": [
              "'print(\" *********complete output *******\")\\n\\nprint(\\'curve  :\\', curve)\\nprint(\\'______________________________________________________________________________________________________________________________\\')\\nprint(\\'a value of curve :\\', curve.a)\\nprint(\\'b value of curve :\\',  curve.b)\\nprint(\\'generator point {x, y} :\\',  curve.field.g)\\nprint(\\'mod value of curve :\\',  curve.field.n)\\n\\nprint(\\'Private key :\\',privateKey)\\nprint(\\'Public key point {x, y} :\\',publicKey)\\n\\nprint(\\'\\n______________________________________ \\n\\')\\nprint(\\'Actual message :\\',message)\\nprint(\\'Encrypted text:\\',encryptedMessageObj[\\'cipherText\\'] )\\nprint(\\'Encrypted text:\\',encryptedMessageObj[\\'nonce\\'] )\\nprint(\\'Encrypted text:\\',encryptedMessageObj[\\'mac\\'] )\\nprint(\\'Decrypted text:\\',decryptedMessage )'"
            ]
          },
          "metadata": {
            "tags": []
          },
          "execution_count": 10
        }
      ]
    },
    {
      "cell_type": "code",
      "metadata": {
        "id": "Cy3WbYtn8xtj",
        "colab_type": "code",
        "colab": {}
      },
      "source": [
        ""
      ],
      "execution_count": 0,
      "outputs": []
    }
  ]
}