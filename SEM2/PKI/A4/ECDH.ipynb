{
  "nbformat": 4,
  "nbformat_minor": 0,
  "metadata": {
    "colab": {
      "name": "ECDH.ipynb",
      "provenance": []
    },
    "kernelspec": {
      "name": "python3",
      "display_name": "Python 3"
    }
  },
  "cells": [
    {
      "cell_type": "markdown",
      "metadata": {
        "id": "DgG8B95jkAwT",
        "colab_type": "text"
      },
      "source": [
        "# key Agreement: client and server"
      ]
    },
    {
      "cell_type": "code",
      "metadata": {
        "id": "KZXJKoB9JaLJ",
        "colab_type": "code",
        "outputId": "fbb85e8f-68b2-4209-c7db-57a8a231b2a0",
        "colab": {
          "base_uri": "https://localhost:8080/",
          "height": 201
        }
      },
      "source": [
        "pip install tinyec\n"
      ],
      "execution_count": 1,
      "outputs": [
        {
          "output_type": "stream",
          "text": [
            "Collecting tinyec\n",
            "  Downloading https://files.pythonhosted.org/packages/c2/00/977e7339ae19b42ae10e1219e5b13c0f54ef703e019be5d3e0b6bf5b90fe/tinyec-0.3.1.tar.gz\n",
            "Building wheels for collected packages: tinyec\n",
            "  Building wheel for tinyec (setup.py) ... \u001b[?25l\u001b[?25hdone\n",
            "  Created wheel for tinyec: filename=tinyec-0.3.1-cp36-none-any.whl size=20766 sha256=f856d6d5e2b82e7180c42ea0fc5ab4afbe387ff4b2770e15b5eb308fcfbbacb5\n",
            "  Stored in directory: /root/.cache/pip/wheels/00/2d/bd/610c1d20033b8dfbb4435ece514e2a79e7ad1e8315dae1761f\n",
            "Successfully built tinyec\n",
            "Installing collected packages: tinyec\n",
            "Successfully installed tinyec-0.3.1\n"
          ],
          "name": "stdout"
        }
      ]
    },
    {
      "cell_type": "code",
      "metadata": {
        "id": "Q7lAK6y1JeAZ",
        "colab_type": "code",
        "colab": {}
      },
      "source": [
        "from tinyec import registry\n",
        "# registry holds all the curves of elliptic curve\n",
        "import secrets\n",
        "# generating cryptographically strong random numbers suitable for managing data such as passwords, account authentication, security tokens, and related secrets."
      ],
      "execution_count": 0,
      "outputs": []
    },
    {
      "cell_type": "code",
      "metadata": {
        "id": "3-4glV8kKLgA",
        "colab_type": "code",
        "outputId": "d465cd5f-e8d5-421e-b040-f3a337ea37b0",
        "colab": {
          "base_uri": "https://localhost:8080/",
          "height": 146
        }
      },
      "source": [
        "curve = registry.get_curve('brainpoolP256r1')\n",
        "# get_curve is used to pick one curve from the registry\n",
        "print('curve  :', curve)\n",
        "print('______________________________________________________________________________________________________________________________')\n",
        "print('a value of curve :', curve.a)\n",
        "print('b value of curve :',  curve.b)\n",
        "print('generator point {x, y} :',  curve.field.g)\n",
        "print('mod value of curve :',  curve.field.n)"
      ],
      "execution_count": 3,
      "outputs": [
        {
          "output_type": "stream",
          "text": [
            "curve  : \"brainpoolP256r1\" => y^2 = x^3 + 56698187605326110043627228396178346077120614539475214109386828188763884139993x + 17577232497321838841075697789794520262950426058923084567046852300633325438902 (mod 76884956397045344220809746629001649093037950200943055203735601445031516197751)\n",
            "______________________________________________________________________________________________________________________________\n",
            "a value of curve : 56698187605326110043627228396178346077120614539475214109386828188763884139993\n",
            "b value of curve : 17577232497321838841075697789794520262950426058923084567046852300633325438902\n",
            "generator point {x, y} : (63243729749562333355292243550312970334778175571054726587095381623627144114786, 38218615093753523893122277964030810387585405539772602581557831887485717997975)\n",
            "mod value of curve : 76884956397045344220809746629001649092737531784414529538755519063063536359079\n"
          ],
          "name": "stdout"
        }
      ]
    },
    {
      "cell_type": "markdown",
      "metadata": {
        "id": "Bebl9jUZqaPF",
        "colab_type": "text"
      },
      "source": [
        "let's consider A(client) and B(server) both\n",
        "1. caluclate their private key between 1 and n-1(curve.field.n) using secrets library, info:`https://cryptobook.nakov.com/asymmetric-key-ciphers/elliptic-curve-cryptography-ecc`\n",
        "2. cal the public key as publickey = private key * generator\n",
        "(done use point addition or point doubling concept of ECC), info:`https://en.wikipedia.org/wiki/Elliptic_curve_point_multiplication`\n",
        "3. ECC key agreement algorithms like ECDH\n"
      ]
    },
    {
      "cell_type": "code",
      "metadata": {
        "id": "jnFl1TjlKSKV",
        "colab_type": "code",
        "outputId": "6e9c59c5-8b95-4a24-e628-9abe4b32d201",
        "colab": {
          "base_uri": "https://localhost:8080/",
          "height": 128
        }
      },
      "source": [
        "APrivateKey = secrets.randbelow(curve.field.n)\n",
        "# choosinng random number from 1 to n-1 \n",
        "APublicKey = APrivateKey * curve.g\n",
        "# cal the public key\n",
        "\n",
        "BPrivateKey = secrets.randbelow(curve.field.n)\n",
        "# choosinng random number from 1 to n-1 \n",
        "BPublicKey =BPrivateKey * curve.g\n",
        "# cal the public key\n",
        "\n",
        "\n",
        "print('Private key of A :',APrivateKey)\n",
        "print('Public key of A {x, y} :',APublicKey)\n",
        "print(' \\n Private key of B :',BPrivateKey)\n",
        "print('Public key of B {x, y}:',BPublicKey)\n"
      ],
      "execution_count": 4,
      "outputs": [
        {
          "output_type": "stream",
          "text": [
            "Private key of A : 53044563922421514818967428333897115284975358834205312052182322087047832694161\n",
            "Public key of A {x, y} : (73631041069283406263289461161898494467387887189118907975906059981823177916998, 14701444912229182626473587834635908966932750239317333653634445862500914766037) on \"brainpoolP256r1\" => y^2 = x^3 + 56698187605326110043627228396178346077120614539475214109386828188763884139993x + 17577232497321838841075697789794520262950426058923084567046852300633325438902 (mod 76884956397045344220809746629001649093037950200943055203735601445031516197751)\n",
            " \n",
            " Private key of B : 56655026593191965550806261496587448064020477298266939798196206828675221517111\n",
            "Public key of B {x, y}: (26057895735752947502981600036273415254559621528925503460024961957056344048180, 18637339858093574461618284477203043708837042187720634913818075604059692454475) on \"brainpoolP256r1\" => y^2 = x^3 + 56698187605326110043627228396178346077120614539475214109386828188763884139993x + 17577232497321838841075697789794520262950426058923084567046852300633325438902 (mod 76884956397045344220809746629001649093037950200943055203735601445031516197751)\n"
          ],
          "name": "stdout"
        }
      ]
    },
    {
      "cell_type": "markdown",
      "metadata": {
        "id": "GS_kBpaktoPn",
        "colab_type": "text"
      },
      "source": [
        "note: Even though both the public key and generator are public to all, its difficult to calculate private key (discrete logarthmic problelm)"
      ]
    },
    {
      "cell_type": "code",
      "metadata": {
        "id": "z4aOi2WDKwrV",
        "colab_type": "code",
        "outputId": "d6574a6b-11a8-4d07-af78-e49e9736bef0",
        "colab": {
          "base_uri": "https://localhost:8080/",
          "height": 92
        }
      },
      "source": [
        "# A shared key is cal using its own privatekey and B public key \n",
        "ASharedKey = APrivateKey * BPublicKey\n",
        "\n",
        "# B shared key is cal using its own privatekey and A public key \n",
        "BSharedKey = BPrivateKey * APublicKey\n",
        "\n",
        "if(ASharedKey == BSharedKey):\n",
        "  print('Keys are equal')\n",
        "  print('The shared key {x, y} point :',ASharedKey)\n",
        "  print('The shared key {x, y} point :',BSharedKey)\n",
        "else:\n",
        "  print('error')"
      ],
      "execution_count": 5,
      "outputs": [
        {
          "output_type": "stream",
          "text": [
            "Keys are equal\n",
            "The shared key {x, y} point : (44767767658403157559170142958039508040424988245788309401104523611998671948989, 3002494134959125329905418807297031545477453962459265111663900653205655629086) on \"brainpoolP256r1\" => y^2 = x^3 + 56698187605326110043627228396178346077120614539475214109386828188763884139993x + 17577232497321838841075697789794520262950426058923084567046852300633325438902 (mod 76884956397045344220809746629001649093037950200943055203735601445031516197751)\n",
            "The shared key {x, y} point : (44767767658403157559170142958039508040424988245788309401104523611998671948989, 3002494134959125329905418807297031545477453962459265111663900653205655629086) on \"brainpoolP256r1\" => y^2 = x^3 + 56698187605326110043627228396178346077120614539475214109386828188763884139993x + 17577232497321838841075697789794520262950426058923084567046852300633325438902 (mod 76884956397045344220809746629001649093037950200943055203735601445031516197751)\n"
          ],
          "name": "stdout"
        }
      ]
    },
    {
      "cell_type": "code",
      "metadata": {
        "id": "SHsp5eVGLiTR",
        "colab_type": "code",
        "outputId": "42709c91-4a53-47c9-dab3-9c5ef8ffe856",
        "colab": {
          "base_uri": "https://localhost:8080/",
          "height": 55
        }
      },
      "source": [
        "'''print(\" *********complete output *******\")\n",
        "\n",
        "print('curve  :', curve)\n",
        "print('______________________________________________________________________________________________________________________________')\n",
        "print('a value of curve :', curve.a)\n",
        "print('b value of curve :',  curve.b)\n",
        "print('generator point {x, y} :',  curve.field.g)\n",
        "print('mod value of curve :',  curve.field.n)\n",
        "\n",
        "print('Private key of A :',APrivateKey)\n",
        "print('Public key of A {x, y} :',APublicKey)\n",
        "print(' \\n Private key of B :',BPrivateKey)\n",
        "print('Public key of B {x, y}:',BPublicKey)\n",
        "\n",
        "if(ASharedKey == BSharedKey):\n",
        "  print('Keys are equal')\n",
        "  print('The shared key {x, y} point :',ASharedKey)\n",
        "  print('The shared key {x, y} point :',BSharedKey)\n",
        "else:\n",
        "  print('error')'''"
      ],
      "execution_count": 6,
      "outputs": [
        {
          "output_type": "execute_result",
          "data": {
            "text/plain": [
              "'print(\" *********complete output *******\")\\n\\nprint(\\'curve  :\\', curve)\\nprint(\\'______________________________________________________________________________________________________________________________\\')\\nprint(\\'a value of curve :\\', curve.a)\\nprint(\\'b value of curve :\\',  curve.b)\\nprint(\\'generator point {x, y} :\\',  curve.field.g)\\nprint(\\'mod value of curve :\\',  curve.field.n)\\n\\nprint(\\'Private key of A :\\',APrivateKey)\\nprint(\\'Public key of A {x, y} :\\',APublicKey)\\nprint(\\' \\n Private key of B :\\',BPrivateKey)\\nprint(\\'Public key of B {x, y}:\\',BPublicKey)\\n\\nif(ASharedKey == BSharedKey):\\n  print(\\'Keys are equal\\')\\n  print(\\'The shared key {x, y} point :\\',ASharedKey)\\n  print(\\'The shared key {x, y} point :\\',BSharedKey)\\nelse:\\n  print(\\'error\\')'"
            ]
          },
          "metadata": {
            "tags": []
          },
          "execution_count": 6
        }
      ]
    }
  ]
}