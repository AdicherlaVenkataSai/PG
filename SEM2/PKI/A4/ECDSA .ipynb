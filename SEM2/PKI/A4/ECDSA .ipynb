{
  "nbformat": 4,
  "nbformat_minor": 0,
  "metadata": {
    "colab": {
      "name": "ECDSA.ipynb",
      "provenance": []
    },
    "kernelspec": {
      "name": "python3",
      "display_name": "Python 3"
    }
  },
  "cells": [
    {
      "cell_type": "markdown",
      "metadata": {
        "id": "VhhjwiBumLae",
        "colab_type": "text"
      },
      "source": [
        "# Digital Signature\n",
        "\n",
        "`https://en.wikipedia.org/wiki/Elliptic_Curve_Digital_Signature_Algorithm`"
      ]
    },
    {
      "cell_type": "code",
      "metadata": {
        "id": "r1GGu-SEwxPL",
        "colab_type": "code",
        "outputId": "c27b70a9-54a2-44ba-ec5b-b8adb506fe1b",
        "colab": {
          "base_uri": "https://localhost:8080/",
          "height": 35
        }
      },
      "source": [
        "pip install tinyec"
      ],
      "execution_count": 86,
      "outputs": [
        {
          "output_type": "stream",
          "text": [
            "Requirement already satisfied: tinyec in /usr/local/lib/python3.6/dist-packages (0.3.1)\n"
          ],
          "name": "stdout"
        }
      ]
    },
    {
      "cell_type": "code",
      "metadata": {
        "id": "k7Ky8h-swyPd",
        "colab_type": "code",
        "colab": {}
      },
      "source": [
        "from tinyec import registry\n",
        "import hashlib, secrets, sys"
      ],
      "execution_count": 0,
      "outputs": []
    },
    {
      "cell_type": "code",
      "metadata": {
        "id": "2PrwvtWiw6Rb",
        "colab_type": "code",
        "colab": {}
      },
      "source": [
        "def extendedEucledian(r1,r2):\n",
        "    if r1 == 0:\n",
        "        return (r2, 0, 1)\n",
        "    else:\n",
        "        gcd, x, y = extendedEucledian(r2 % r1, r1)\n",
        "        return (gcd, y - (r2//r1) * x, x)"
      ],
      "execution_count": 0,
      "outputs": []
    },
    {
      "cell_type": "code",
      "metadata": {
        "id": "xrhJkf2xw8zL",
        "colab_type": "code",
        "colab": {}
      },
      "source": [
        "def sha3_256Hash(message):\n",
        "    hashBytes = hashlib.sha3_256(msg.encode(\"utf8\")).digest()\n",
        "    return int.from_bytes(hashBytes, byteorder=\"big\")\n",
        "   \n"
      ],
      "execution_count": 0,
      "outputs": []
    },
    {
      "cell_type": "markdown",
      "metadata": {
        "id": "uYQ0ItWHmYcm",
        "colab_type": "text"
      },
      "source": [
        "Signature generation algorithm:\n",
        "1. Calculate  e=HASH(m)\n",
        "2. Let z be the L(n) leftmost bits of e, where L(n) is the bit length of the group order n.\n",
        "3. Select a cryptographically secure random integer k from [1,n-1].\n",
        "4. Calculate the curve point (x1,y1)=k *G.\n",
        "5. Calculate r=x1 mod n. If r=0, go back to step 3.\n",
        "6. Calculate  s=inverse(k)(e + r * private key). If s=0, go back to step 3.\n",
        "7. The signature is the pair (r,s).and (r,-s mod n) is also a valid signature.\n",
        "\n",
        "note: K should be secret, and we need to select different signatures, if not the private key value can be calculated \n",
        "\n",
        "`private key = (s * k - e) / r` "
      ]
    },
    {
      "cell_type": "code",
      "metadata": {
        "id": "3CwCTQonw_Yj",
        "colab_type": "code",
        "colab": {}
      },
      "source": [
        "def signECDSA(msg, privKey):\n",
        "    msgHash = sha3_256Hash(msg)\n",
        "    \n",
        "    flag = True\n",
        "    while flag:\n",
        "        k_random =  secrets.randbelow(curve.field.n)\n",
        "        new_curve_point = k_random * curve.g\n",
        "\n",
        "        if new_curve_point.x != 0:\n",
        "            flag = False\n",
        "            r = new_curve_point.x % curve.field.n\n",
        "\n",
        "    flag = True\n",
        "    while flag:\n",
        "        k_inv = extendedEucledian(k_random, curve.field.n)[1]\n",
        "        s = (k_inv * (msgHash + r * privKey)) % curve.field.n\n",
        "\n",
        "        if s != 0:\n",
        "            flag = False\n",
        "\n",
        "    return (r, s)"
      ],
      "execution_count": 0,
      "outputs": []
    },
    {
      "cell_type": "markdown",
      "metadata": {
        "id": "MdrSLzb8pzxU",
        "colab_type": "text"
      },
      "source": [
        "signature verifying algorithm:\n",
        "1. Verify that r and s are integers in (1, n-1). If not, the signature is invalid.\n",
        "2. Calculate e=HASH(m), where HASH is the same function used in the signature generation.\n",
        "3. Let z be the L(n) leftmost bits of e.\n",
        "4. Calculate u1=z * inverse(s) mod n and  u2=r * inverse(s) mod n\n",
        "5. Calculate the curve point \n",
        "(x1,y1)=u1 x G + u2 x public key\n",
        "If (x1,y1)=O then the signature is invalid.\n",
        "6. The signature is valid if r == x1 mod n, invalid otherwise\n",
        "\n"
      ]
    },
    {
      "cell_type": "code",
      "metadata": {
        "id": "vPwiNKR3xEpr",
        "colab_type": "code",
        "colab": {}
      },
      "source": [
        "def verifyECDSA(msg, signature, pubKey):\n",
        "    r, s = signature\n",
        "    if r not in range(curve.field.n) and s not in range(curve.field.n): \n",
        "      print(\"\\nInvalid Signature\") \n",
        "      sys.exit(0)\n",
        "    msgHash = sha3_256Hash(msg)\n",
        "    s_inv = extendedEucledian(s, curve.field.n)[1]\n",
        "    u1 = (msgHash * s_inv) % curve.field.n; u2 = (r * s_inv)% curve.field.n\n",
        "    new_point = u1 * curve.g + u2 * pubKey\n",
        "\n",
        "    return True if new_point.x == r % curve.field.n else False"
      ],
      "execution_count": 0,
      "outputs": []
    },
    {
      "cell_type": "code",
      "metadata": {
        "id": "0Jv0ZlsaxITK",
        "colab_type": "code",
        "outputId": "c93a97c4-e041-41c3-d1ee-a1336549cdd6",
        "colab": {
          "base_uri": "https://localhost:8080/",
          "height": 235
        }
      },
      "source": [
        "msg = 'doing assigments by borrowing laptop form neighbours'\n",
        "curve = registry.get_curve('brainpoolP256r1')\n",
        "\n",
        "privKey = secrets.randbelow(curve.field.n)\n",
        "\n",
        "\n",
        "pubKey = privKey * curve.g\n",
        "\n",
        "\n",
        "signature = signECDSA(msg, privKey)\n",
        "print('\\nMessage: ', msg)\n",
        "print('\\nPrivate key: ', privKey)\n",
        "print('public key point (x, y): ', pubKey.x, \"\\n\", pubKey.y)\n",
        "print('nSignature: r= :' + hex(signature[0]) + '\\ns= : ' + hex(signature[1]))\n",
        "\n",
        "verifying = verifyECDSA(msg, signature, pubKey)\n",
        "print('Actual Message: ', msg)\n",
        "print('Is Signature Valid ', verifying)\n",
        "\n",
        "msg = 'qwertyuio'\n",
        "verifying = verifyECDSA(msg, signature, pubKey)\n",
        "print('Message:', msg)\n",
        "print('Is Signature Valid ', valid)"
      ],
      "execution_count": 92,
      "outputs": [
        {
          "output_type": "stream",
          "text": [
            "\n",
            "Message:  doing assigments by borrowing laptop form neighbours\n",
            "\n",
            "Private key:  60628018447749938238814223013031572502725766742407305046964002757988547014272\n",
            "public key point (x, y):  68549413669697182065746377356425132169431370204513250063896749012928842294275 \n",
            " 37588254655532033826161976823481579847026763176706863411402183667331635715475\n",
            "nSignature: r= :0x9cacb0130ca6104aa04cd3fde324f5b2a54fdb140eb86e3f7019b11ce0fb4bcf\n",
            "s= : 0x3c3b48ab23a26766c02866f208d08db74eac4f202a948b46724c8b418d1b2ab6\n",
            "Actual Message:  doing assigments by borrowing laptop form neighbours\n",
            "Is Signature Valid  True\n",
            "Message: qwertyuio\n",
            "Is Signature Valid  False\n"
          ],
          "name": "stdout"
        }
      ]
    }
  ]
}